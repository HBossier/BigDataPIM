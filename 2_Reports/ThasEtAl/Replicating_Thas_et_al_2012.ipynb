{
 "cells": [
  {
   "cell_type": "markdown",
   "metadata": {},
   "source": [
    "# Replicating Thas et al. 2012\n",
    "To get some feeling with the PIM model, we will here try to replicate the results obtained in Thas et al. (2012). In this paper, the researchers simulated data under the normal linear model for varying parameters. They then estimated beta coefficients using the PIM model and calculated (among other things) the average of the beta-estimates according to the semi-parametric PIM theory and its sample variance. We will restrict us for now to the setting in which the assumption of homoscedastic variance is met."
   ]
  },
  {
   "cell_type": "markdown",
   "metadata": {},
   "source": [
    "### Global parameters"
   ]
  },
  {
   "cell_type": "code",
   "execution_count": 6,
   "metadata": {
    "collapsed": true
   },
   "outputs": [
    {
     "name": "stderr",
     "output_type": "stream",
     "text": [
      "\n",
      "Attaching package: ‘dplyr’\n",
      "\n",
      "The following objects are masked from ‘package:stats’:\n",
      "\n",
      "    filter, lag\n",
      "\n",
      "The following objects are masked from ‘package:base’:\n",
      "\n",
      "    intersect, setdiff, setequal, union\n",
      "\n"
     ]
    }
   ],
   "source": [
    "# Library\n",
    "library(pim)\n",
    "library(dplyr)"
   ]
  },
  {
   "cell_type": "code",
   "execution_count": 3,
   "metadata": {
    "collapsed": false
   },
   "outputs": [],
   "source": [
    "# Seed\n",
    "set.seed(1990)\n",
    "\n",
    "# Simulate over 1000 simulations in which we vary alpha, u, sigma and n:\n",
    "nsim <- 1000\n",
    "alpha <- c(1,10)\n",
    "sigma <- c(1,5)\n",
    "u <- c(1,10)\n",
    "n <- c(25,50,200)\n",
    "\n",
    "# All combinations of the parameters \n",
    "combinations <- expand.grid('alpha' = alpha,'sigma' = sigma,'u' = u, 'n' = n)\n",
    "\n",
    "# Empty vector\n",
    "BetaValues <- array(NA, dim = c(nsim, dim(combinations)[1]))"
   ]
  },
  {
   "cell_type": "markdown",
   "metadata": {},
   "source": [
    "### Loop over all combinations"
   ]
  },
  {
   "cell_type": "code",
   "execution_count": null,
   "metadata": {
    "collapsed": false
   },
   "outputs": [],
   "source": [
    "# loop over the combinations\n",
    "for(c in 1:dim(combinations)[1]){\n",
    "  # Set the parameters for this setting\n",
    "  nSim <- combinations[c,'n']\n",
    "  uSim <- combinations[c,'u']\n",
    "  alphaSim <- combinations[c,'alpha']\n",
    "  sigmaSim <- combinations[c,'sigma']\n",
    "\n",
    "  # Generate predictor\n",
    "  X <- runif(n = nSim, min = 0.1, max = uSim)\n",
    "\n",
    "  # Fit the model nsim times\n",
    "  for(i in 1:nsim){\n",
    "    # Generate data\n",
    "    Y <- alphaSim*X + rnorm(n = nSim, mean = 0, sd = sigmaSim)\n",
    "\n",
    "    # PIM package beta parameter: note that we skip this iteration if estimation fails\n",
    "    value <- try(pim(formula = Y ~ X, link = 'probit', model = 'difference')@coef, silent = TRUE)\n",
    "    if(class(value) == 'try-error'){\n",
    "      print(paste0('Error in sim ',i, ' c = ', c, '. Message = ', attr(value,\"condition\")))\n",
    "      next\n",
    "    }else{\n",
    "      BetaValues[i,c] <- value\n",
    "    }\n",
    "  }\n",
    "}"
   ]
  },
  {
   "cell_type": "markdown",
   "metadata": {},
   "source": [
    "Now showing the results for 1000 simulations:"
   ]
  },
  {
   "cell_type": "code",
   "execution_count": 8,
   "metadata": {
    "collapsed": false
   },
   "outputs": [
    {
     "data": {
      "text/html": [
       "<table>\n",
       "<thead><tr><th scope=col>alpha</th><th scope=col>sigma</th><th scope=col>u</th><th scope=col>n</th><th scope=col>beta</th><th scope=col>AvBetaHat</th><th scope=col>VarBetaHat</th></tr></thead>\n",
       "<tbody>\n",
       "\t<tr><td> 1     </td><td>1      </td><td> 1     </td><td> 25    </td><td>0.707  </td><td>0.78883</td><td>0.50118</td></tr>\n",
       "\t<tr><td>10     </td><td>1      </td><td> 1     </td><td> 25    </td><td>7.071  </td><td>7.41565</td><td>1.88440</td></tr>\n",
       "\t<tr><td> 1     </td><td>5      </td><td> 1     </td><td> 25    </td><td>0.141  </td><td>0.16077</td><td>0.35292</td></tr>\n",
       "\t<tr><td>10     </td><td>5      </td><td> 1     </td><td> 25    </td><td>1.414  </td><td>1.54460</td><td>0.60040</td></tr>\n",
       "\t<tr><td> 1     </td><td>1      </td><td>10     </td><td> 25    </td><td>0.707  </td><td>0.74320</td><td>0.01653</td></tr>\n",
       "\t<tr><td>10     </td><td>1      </td><td>10     </td><td> 25    </td><td>7.071  </td><td>1.01708</td><td>0.00000</td></tr>\n",
       "\t<tr><td> 1     </td><td>5      </td><td>10     </td><td> 25    </td><td>0.141  </td><td>0.14716</td><td>0.00313</td></tr>\n",
       "\t<tr><td>10     </td><td>5      </td><td>10     </td><td> 25    </td><td>1.414  </td><td>     NA</td><td>     NA</td></tr>\n",
       "\t<tr><td> 1     </td><td>1      </td><td> 1     </td><td> 50    </td><td>0.707  </td><td>0.72004</td><td>0.22838</td></tr>\n",
       "\t<tr><td>10     </td><td>1      </td><td> 1     </td><td> 50    </td><td>7.071  </td><td>7.26259</td><td>0.96681</td></tr>\n",
       "\t<tr><td> 1     </td><td>5      </td><td> 1     </td><td> 50    </td><td>0.141  </td><td>0.13536</td><td>0.15569</td></tr>\n",
       "\t<tr><td>10     </td><td>5      </td><td> 1     </td><td> 50    </td><td>1.414  </td><td>1.43417</td><td>0.14315</td></tr>\n",
       "\t<tr><td> 1     </td><td>1      </td><td>10     </td><td> 50    </td><td>0.707  </td><td>0.71850</td><td>0.00734</td></tr>\n",
       "\t<tr><td>10     </td><td>1      </td><td>10     </td><td> 50    </td><td>7.071  </td><td>0.89121</td><td>0.00000</td></tr>\n",
       "\t<tr><td> 1     </td><td>5      </td><td>10     </td><td> 50    </td><td>0.141  </td><td>0.14522</td><td>0.00165</td></tr>\n",
       "\t<tr><td>10     </td><td>5      </td><td>10     </td><td> 50    </td><td>1.414  </td><td>0.88797</td><td>0.00000</td></tr>\n",
       "\t<tr><td> 1     </td><td>1      </td><td> 1     </td><td>200    </td><td>0.707  </td><td>0.70741</td><td>0.04061</td></tr>\n",
       "\t<tr><td>10     </td><td>1      </td><td> 1     </td><td>200    </td><td>7.071  </td><td>7.11365</td><td>0.18882</td></tr>\n",
       "\t<tr><td> 1     </td><td>5      </td><td> 1     </td><td>200    </td><td>0.141  </td><td>0.13533</td><td>0.04963</td></tr>\n",
       "\t<tr><td>10     </td><td>5      </td><td> 1     </td><td>200    </td><td>1.414  </td><td>1.42183</td><td>0.04251</td></tr>\n",
       "\t<tr><td> 1     </td><td>1      </td><td>10     </td><td>200    </td><td>0.707  </td><td>0.71217</td><td>0.00179</td></tr>\n",
       "\t<tr><td>10     </td><td>1      </td><td>10     </td><td>200    </td><td>7.071  </td><td>0.85832</td><td>0.00000</td></tr>\n",
       "\t<tr><td> 1     </td><td>5      </td><td>10     </td><td>200    </td><td>0.141  </td><td>0.14237</td><td>0.00045</td></tr>\n",
       "\t<tr><td>10     </td><td>5      </td><td>10     </td><td>200    </td><td>1.414  </td><td>0.85403</td><td>0.00000</td></tr>\n",
       "</tbody>\n",
       "</table>\n"
      ],
      "text/latex": [
       "\\begin{tabular}{r|lllllll}\n",
       " alpha & sigma & u & n & beta & AvBetaHat & VarBetaHat\\\\\n",
       "\\hline\n",
       "\t  1      & 1       &  1      &  25     & 0.707   & 0.78883 & 0.50118\\\\\n",
       "\t 10      & 1       &  1      &  25     & 7.071   & 7.41565 & 1.88440\\\\\n",
       "\t  1      & 5       &  1      &  25     & 0.141   & 0.16077 & 0.35292\\\\\n",
       "\t 10      & 5       &  1      &  25     & 1.414   & 1.54460 & 0.60040\\\\\n",
       "\t  1      & 1       & 10      &  25     & 0.707   & 0.74320 & 0.01653\\\\\n",
       "\t 10      & 1       & 10      &  25     & 7.071   & 1.01708 & 0.00000\\\\\n",
       "\t  1      & 5       & 10      &  25     & 0.141   & 0.14716 & 0.00313\\\\\n",
       "\t 10      & 5       & 10      &  25     & 1.414   &      NA &      NA\\\\\n",
       "\t  1      & 1       &  1      &  50     & 0.707   & 0.72004 & 0.22838\\\\\n",
       "\t 10      & 1       &  1      &  50     & 7.071   & 7.26259 & 0.96681\\\\\n",
       "\t  1      & 5       &  1      &  50     & 0.141   & 0.13536 & 0.15569\\\\\n",
       "\t 10      & 5       &  1      &  50     & 1.414   & 1.43417 & 0.14315\\\\\n",
       "\t  1      & 1       & 10      &  50     & 0.707   & 0.71850 & 0.00734\\\\\n",
       "\t 10      & 1       & 10      &  50     & 7.071   & 0.89121 & 0.00000\\\\\n",
       "\t  1      & 5       & 10      &  50     & 0.141   & 0.14522 & 0.00165\\\\\n",
       "\t 10      & 5       & 10      &  50     & 1.414   & 0.88797 & 0.00000\\\\\n",
       "\t  1      & 1       &  1      & 200     & 0.707   & 0.70741 & 0.04061\\\\\n",
       "\t 10      & 1       &  1      & 200     & 7.071   & 7.11365 & 0.18882\\\\\n",
       "\t  1      & 5       &  1      & 200     & 0.141   & 0.13533 & 0.04963\\\\\n",
       "\t 10      & 5       &  1      & 200     & 1.414   & 1.42183 & 0.04251\\\\\n",
       "\t  1      & 1       & 10      & 200     & 0.707   & 0.71217 & 0.00179\\\\\n",
       "\t 10      & 1       & 10      & 200     & 7.071   & 0.85832 & 0.00000\\\\\n",
       "\t  1      & 5       & 10      & 200     & 0.141   & 0.14237 & 0.00045\\\\\n",
       "\t 10      & 5       & 10      & 200     & 1.414   & 0.85403 & 0.00000\\\\\n",
       "\\end{tabular}\n"
      ],
      "text/markdown": [
       "\n",
       "alpha | sigma | u | n | beta | AvBetaHat | VarBetaHat | \n",
       "|---|---|---|---|---|---|---|---|---|---|---|---|---|---|---|---|---|---|---|---|---|---|---|---|\n",
       "|  1      | 1       |  1      |  25     | 0.707   | 0.78883 | 0.50118 | \n",
       "| 10      | 1       |  1      |  25     | 7.071   | 7.41565 | 1.88440 | \n",
       "|  1      | 5       |  1      |  25     | 0.141   | 0.16077 | 0.35292 | \n",
       "| 10      | 5       |  1      |  25     | 1.414   | 1.54460 | 0.60040 | \n",
       "|  1      | 1       | 10      |  25     | 0.707   | 0.74320 | 0.01653 | \n",
       "| 10      | 1       | 10      |  25     | 7.071   | 1.01708 | 0.00000 | \n",
       "|  1      | 5       | 10      |  25     | 0.141   | 0.14716 | 0.00313 | \n",
       "| 10      | 5       | 10      |  25     | 1.414   |      NA |      NA | \n",
       "|  1      | 1       |  1      |  50     | 0.707   | 0.72004 | 0.22838 | \n",
       "| 10      | 1       |  1      |  50     | 7.071   | 7.26259 | 0.96681 | \n",
       "|  1      | 5       |  1      |  50     | 0.141   | 0.13536 | 0.15569 | \n",
       "| 10      | 5       |  1      |  50     | 1.414   | 1.43417 | 0.14315 | \n",
       "|  1      | 1       | 10      |  50     | 0.707   | 0.71850 | 0.00734 | \n",
       "| 10      | 1       | 10      |  50     | 7.071   | 0.89121 | 0.00000 | \n",
       "|  1      | 5       | 10      |  50     | 0.141   | 0.14522 | 0.00165 | \n",
       "| 10      | 5       | 10      |  50     | 1.414   | 0.88797 | 0.00000 | \n",
       "|  1      | 1       |  1      | 200     | 0.707   | 0.70741 | 0.04061 | \n",
       "| 10      | 1       |  1      | 200     | 7.071   | 7.11365 | 0.18882 | \n",
       "|  1      | 5       |  1      | 200     | 0.141   | 0.13533 | 0.04963 | \n",
       "| 10      | 5       |  1      | 200     | 1.414   | 1.42183 | 0.04251 | \n",
       "|  1      | 1       | 10      | 200     | 0.707   | 0.71217 | 0.00179 | \n",
       "| 10      | 1       | 10      | 200     | 7.071   | 0.85832 | 0.00000 | \n",
       "|  1      | 5       | 10      | 200     | 0.141   | 0.14237 | 0.00045 | \n",
       "| 10      | 5       | 10      | 200     | 1.414   | 0.85403 | 0.00000 | \n",
       "\n",
       "\n"
      ],
      "text/plain": [
       "   alpha sigma u  n   beta  AvBetaHat VarBetaHat\n",
       "1   1    1      1  25 0.707 0.78883   0.50118   \n",
       "2  10    1      1  25 7.071 7.41565   1.88440   \n",
       "3   1    5      1  25 0.141 0.16077   0.35292   \n",
       "4  10    5      1  25 1.414 1.54460   0.60040   \n",
       "5   1    1     10  25 0.707 0.74320   0.01653   \n",
       "6  10    1     10  25 7.071 1.01708   0.00000   \n",
       "7   1    5     10  25 0.141 0.14716   0.00313   \n",
       "8  10    5     10  25 1.414      NA        NA   \n",
       "9   1    1      1  50 0.707 0.72004   0.22838   \n",
       "10 10    1      1  50 7.071 7.26259   0.96681   \n",
       "11  1    5      1  50 0.141 0.13536   0.15569   \n",
       "12 10    5      1  50 1.414 1.43417   0.14315   \n",
       "13  1    1     10  50 0.707 0.71850   0.00734   \n",
       "14 10    1     10  50 7.071 0.89121   0.00000   \n",
       "15  1    5     10  50 0.141 0.14522   0.00165   \n",
       "16 10    5     10  50 1.414 0.88797   0.00000   \n",
       "17  1    1      1 200 0.707 0.70741   0.04061   \n",
       "18 10    1      1 200 7.071 7.11365   0.18882   \n",
       "19  1    5      1 200 0.141 0.13533   0.04963   \n",
       "20 10    5      1 200 1.414 1.42183   0.04251   \n",
       "21  1    1     10 200 0.707 0.71217   0.00179   \n",
       "22 10    1     10 200 7.071 0.85832   0.00000   \n",
       "23  1    5     10 200 0.141 0.14237   0.00045   \n",
       "24 10    5     10 200 1.414 0.85403   0.00000   "
      ]
     },
     "metadata": {},
     "output_type": "display_data"
    }
   ],
   "source": [
    "# Average beta hat and variance\n",
    "combinations <- combinations %>% mutate(beta = round(alpha/(sqrt(2) * sigma), digits = 3))\n",
    "ReplResults <- data.frame(combinations, AvBetaHat = round(colMeans(BetaValues), digits = 5),\n",
    "              VarBetaHat = round(apply(BetaValues, 2, var), digits = 5))\n",
    "ReplResults"
   ]
  },
  {
   "cell_type": "markdown",
   "metadata": {},
   "source": [
    "> Why is the combination alpha = 10 and u = 10 not good?\n",
    "\n",
    "Note: most of the times, the system of nonlinear equations returns the warning that no good solution has been found!"
   ]
  }
 ],
 "metadata": {
  "kernelspec": {
   "display_name": "R",
   "language": "R",
   "name": "ir"
  },
  "language_info": {
   "codemirror_mode": "r",
   "file_extension": ".r",
   "mimetype": "text/x-r-source",
   "name": "R",
   "pygments_lexer": "r",
   "version": "3.3.2"
  }
 },
 "nbformat": 4,
 "nbformat_minor": 2
}
