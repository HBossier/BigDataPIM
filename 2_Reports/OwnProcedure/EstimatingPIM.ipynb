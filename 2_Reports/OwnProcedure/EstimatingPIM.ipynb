{
 "cells": [
  {
   "cell_type": "markdown",
   "metadata": {},
   "source": [
    "# Estimating a PIM"
   ]
  },
  {
   "cell_type": "markdown",
   "metadata": {},
   "source": [
    "This report is a summary of the code found in 1_Scripts. It contains two elements:\n",
    "\n",
    "1. We will try to estimate beta parameters of the normal linear model step by step and compare this with the estimation done through the PIM package. \n",
    "2. We will compare the time needed to estimate the parameters for $N = 25$ either through the *pim* package, or by calculating it manually."
   ]
  },
  {
   "cell_type": "code",
   "execution_count": null,
   "metadata": {
    "collapsed": false
   },
   "outputs": [],
   "source": [
    "library(nleqslv)\n",
    "library(pim)\n",
    "library(dplyr)"
   ]
  },
  {
   "cell_type": "markdown",
   "metadata": {},
   "source": [
    "Define global variables."
   ]
  },
  {
   "cell_type": "code",
   "execution_count": 1,
   "metadata": {
    "collapsed": true
   },
   "outputs": [],
   "source": [
    "n <- 25\n",
    "u <- 1\n",
    "alpha <- 1\n",
    "sigma <- 1"
   ]
  },
  {
   "cell_type": "markdown",
   "metadata": {},
   "source": [
    "Now generate the predictor and data"
   ]
  },
  {
   "cell_type": "code",
   "execution_count": 2,
   "metadata": {
    "collapsed": true
   },
   "outputs": [],
   "source": [
    "X <- runif(n = n, min = 0.1, max = u)\n",
    "Y <- alpha*X + rnorm(n = n, mean = 0, sd = sigma)\n",
    "TrueBeta <- alpha/(sqrt(2) * sigma)"
   ]
  },
  {
   "cell_type": "markdown",
   "metadata": {},
   "source": [
    "First fit the PIM model, using the PIM package"
   ]
  },
  {
   "cell_type": "code",
   "execution_count": 4,
   "metadata": {
    "collapsed": false
   },
   "outputs": [
    {
     "data": {
      "text/plain": [
       "pim.summary of following model : \n",
       " Y ~ X\n",
       "Type:  difference \n",
       "Link:  probit \n",
       "\n",
       "\n",
       "  Estimate Std. Error z value Pr(>|z|)  \n",
       "X   1.0883     0.4707   2.312   0.0208 *\n",
       "---\n",
       "Signif. codes:  0 ‘***’ 0.001 ‘**’ 0.01 ‘*’ 0.05 ‘.’ 0.1 ‘ ’ 1\n",
       "\n",
       "Null hypothesis: b = 0 "
      ]
     },
     "metadata": {},
     "output_type": "display_data"
    },
    {
     "data": {
      "text/html": [
       "<strong>X:</strong> 1.08825408542583"
      ],
      "text/latex": [
       "\\textbf{X:} 1.08825408542583"
      ],
      "text/markdown": [
       "**X:** 1.08825408542583"
      ],
      "text/plain": [
       "       X \n",
       "1.088254 "
      ]
     },
     "metadata": {},
     "output_type": "display_data"
    }
   ],
   "source": [
    "PIMfit <- pim(formula = Y ~ X, data = data.frame(Y = Y, X = X), link = 'probit', model = 'difference')\n",
    "summary(PIMfit)\n",
    "PIMfit@coef"
   ]
  },
  {
   "cell_type": "markdown",
   "metadata": {},
   "source": [
    "Now try it manually. \n",
    "We will\n",
    "\n",
    "* Create a set of pseudo-observations\n",
    "* Calculate Z\n",
    "* Calculate Z times beta using an initial guess of beta\n",
    "* Formulate the estimating equation\n",
    "* Solve the latter using a function and the *nleqslv* function."
   ]
  },
  {
   "cell_type": "code",
   "execution_count": 6,
   "metadata": {
    "collapsed": false
   },
   "outputs": [],
   "source": [
    "# Manually\n",
    "# Step one: create the set of pseudo-observations\n",
    "IndX <- X %>% data.frame('X' = .) %>% mutate(index = 1:length(X))\n",
    "PseudoObs <- data.frame(expand.grid('Y' = Y,'Yprime' = Y),\n",
    "                expand.grid('IY' = 1:length(Y),'IYprime' = 1:length(Y))) %>%\n",
    "                rowwise() %>% mutate(X = IndX[which(IndX$index == IY),'X'],\n",
    "                Xprime = IndX[which(IndX$index == IYprime),'X']) %>%\n",
    "                filter(IY != IYprime) %>% select(-IY,-IYprime) %>%\n",
    "                mutate(PO = ifelse(Y < Yprime,1,\n",
    "                                   ifelse(Y == Yprime,0.5,0)))\n",
    "\n",
    "# Filter only those observations I(Y <= Yprime)\n",
    "IndPseudObs <- PseudoObs %>% filter(PO > 0)\n",
    "\n",
    "# Calculate Z\n",
    "IndPseudObs <- mutate(IndPseudObs, Z = Xprime - X)\n",
    "\n",
    "# Initial beta value for one predictor: one number\n",
    "beta <- matrix(0, ncol = 1, nrow = 1)\n",
    "\n",
    "# Z vector with length number of pseudo obs\n",
    "Z <- IndPseudObs %>% select(Z) %>% as.matrix(., ncol = 1)\n",
    "\n",
    "# Z times beta: matrix of [nPseudo x 1]\n",
    "Zbeta <- c(Z%*%beta) %>% as.matrix(., ncol = 1)\n",
    "\n",
    "# Pseudo observations\n",
    "PO <- IndPseudObs %>% select(PO)\n",
    "\n",
    "# Estimating equation:\n",
    "# colSums(Z*dnorm(Zbeta) * (PO - pnorm(Zbeta) / c(pnorm(Zbeta)*(1-pnorm(Zbeta)))))\n",
    "\n",
    "# To solve, have estimating equation in a separate function\n",
    "PIM.ScoreFunction <- function(Z, PO){\n",
    "  U.func <- function(beta, Z, PO){\n",
    "    Zbeta <- c(Z%*%beta)\n",
    "    colSums(Z*dnorm(Zbeta)*(PO - pnorm(Zbeta))/c(pnorm(Zbeta)*(1-pnorm(Zbeta))))\n",
    "  }\n",
    "  return(U.func)\n",
    "}\n",
    "\n",
    "coef <- nleqslv(x = rep(0,ncol(Z)), PIM.ScoreFunction(Z = Z, PO = PO), Z=Z, PO=PO)$x"
   ]
  },
  {
   "cell_type": "markdown",
   "metadata": {},
   "source": [
    "Now compare this result with the one obtained through the package. "
   ]
  },
  {
   "cell_type": "code",
   "execution_count": 7,
   "metadata": {
    "collapsed": false
   },
   "outputs": [
    {
     "data": {
      "text/html": [
       "<table>\n",
       "<thead><tr><th></th><th scope=col>PIM</th><th scope=col>Manual</th></tr></thead>\n",
       "<tbody>\n",
       "\t<tr><th scope=row>X</th><td>1.088254</td><td>1.088254</td></tr>\n",
       "</tbody>\n",
       "</table>\n"
      ],
      "text/latex": [
       "\\begin{tabular}{r|ll}\n",
       "  & PIM & Manual\\\\\n",
       "\\hline\n",
       "\tX & 1.088254 & 1.088254\\\\\n",
       "\\end{tabular}\n"
      ],
      "text/markdown": [
       "\n",
       "| <!--/--> | PIM | Manual | \n",
       "|---|\n",
       "| X | 1.088254 | 1.088254 | \n",
       "\n",
       "\n"
      ],
      "text/plain": [
       "  PIM      Manual  \n",
       "X 1.088254 1.088254"
      ]
     },
     "metadata": {},
     "output_type": "display_data"
    }
   ],
   "source": [
    "data.frame('PIM' = PIMfit@coef, 'Manual' = coef)"
   ]
  },
  {
   "cell_type": "markdown",
   "metadata": {},
   "source": [
    "We get the same parameters!"
   ]
  },
  {
   "cell_type": "markdown",
   "metadata": {},
   "source": [
    "# Creating pseudo-observations\n",
    "\n",
    "Note that in the code above, it is not really clear how the pseudo-observations are calculated. To solve this problem, we here define a new function, with some comments."
   ]
  },
  {
   "cell_type": "code",
   "execution_count": 9,
   "metadata": {
    "collapsed": true
   },
   "outputs": [],
   "source": [
    "CreatePO <- function(Y, X){\n",
    "  if(class(X)!='data.frame') X <- data.frame('X' = X)\n",
    "  # We will use indicators for X to get their corresponding Y values later on\n",
    "  IndX <- X %>% mutate(index = 1:length(X))\n",
    "      \n",
    "  # First create all combinations between the observed Y\n",
    "  Yvalues <- data.frame(expand.grid('Y' = Y,'Yprime' = Y),\n",
    "                        expand.grid('IY' = 1:length(Y),'IYprime' = 1:length(Y)))\n",
    "  # Now create P0 and select the I:= Y <= YPrime\n",
    "  POdoubles <-  Yvalues %>%  mutate(PO = ifelse(Y < Yprime,1,\n",
    "            ifelse(Y == Yprime,0.5,0))) %>% filter(PO > 0)\n",
    "  # Notice that we compare Y with itself in the data frame. We delete these duplicates.\n",
    "  POsingles <- POdoubles %>% filter(IY != IYprime)\n",
    "\n",
    "  # Now we need to add the X and Xprime variables that correspond to the observed Y or Yprime\n",
    "      # We use the indicators for Y and X to do this.\n",
    "  PO <- POsingles %>% rowwise() %>% mutate(X = IndX[which(IndX$index == IY),'X'],\n",
    "            Xprime = IndX[which(IndX$index == IYprime),'X'])\n",
    "\n",
    "  return(PO %>% select(-IY,-IYprime))\n",
    "}"
   ]
  },
  {
   "cell_type": "markdown",
   "metadata": {},
   "source": [
    "# Compare speed\n",
    "In this section, I will run both approaches 5000 times and compare the speed to do this. We do this to see if we can get speed advantages in the calculations when we do not load in the complete *pim* library."
   ]
  },
  {
   "cell_type": "code",
   "execution_count": 10,
   "metadata": {
    "collapsed": true
   },
   "outputs": [],
   "source": [
    "nsim <- 5000"
   ]
  },
  {
   "cell_type": "markdown",
   "metadata": {},
   "source": [
    "### Package"
   ]
  },
  {
   "cell_type": "code",
   "execution_count": 11,
   "metadata": {
    "collapsed": true
   },
   "outputs": [],
   "source": [
    "t1 <- Sys.time()\n",
    "set.seed(1990)\n",
    "for(i in 1:nsim){\n",
    "  # First generate the predictor values.\n",
    "  # This is equally spaced between [0,u]\n",
    "  X <- runif(n = n, min = 0.1, max = u)\n",
    "\n",
    "  # Generate data\n",
    "  Y <- alpha*X + rnorm(n = n, mean = 0, sd = sigma)\n",
    "\n",
    "  # PIM package beta parameter\n",
    "  speedTest <- pim(formula = Y ~ X, link = 'probit', model = 'difference')@coef\n",
    "}\n",
    "PackageSpeed <- Sys.time() - t1"
   ]
  },
  {
   "cell_type": "markdown",
   "metadata": {},
   "source": [
    "### Manual"
   ]
  },
  {
   "cell_type": "code",
   "execution_count": 12,
   "metadata": {
    "collapsed": true
   },
   "outputs": [],
   "source": [
    "t1 <- Sys.time()\n",
    "set.seed(1990)\n",
    "for(i in 1:nsim){\n",
    "  # First generate the predictor values.\n",
    "  # This is equally spaced between [0,u]\n",
    "  X <- runif(n = n, min = 0.1, max = u)\n",
    "\n",
    "  # Generate data\n",
    "  Y <- alpha*X + rnorm(n = n, mean = 0, sd = sigma)\n",
    "  # Create the pseudo-observations\n",
    "  Observations <- CreatePO(Y = Y, X = X)\n",
    "  # Calculate Z\n",
    "  Z <- mutate(Observations, Z = Xprime - X) %>% select(Z) %>% as.matrix(., ncol = 1)\n",
    "  # Pseudo observations\n",
    "  PO <- Observations %>% select(PO)\n",
    "\n",
    "  # Estimation\n",
    "  speedTest <- nleqslv(x = rep(0,ncol(Z)), PIM.ScoreFunction(Z = Z, PO = PO), Z = Z, PO = PO)$x\n",
    "}\n",
    "ManualSpeed <- Sys.time() - t1"
   ]
  },
  {
   "cell_type": "markdown",
   "metadata": {},
   "source": [
    "Results:"
   ]
  },
  {
   "cell_type": "code",
   "execution_count": 13,
   "metadata": {
    "collapsed": false
   },
   "outputs": [
    {
     "data": {
      "text/html": [
       "<table>\n",
       "<thead><tr><th scope=col>Package.speed</th><th scope=col>Manual.speed</th><th scope=col>Number.of.simulations</th><th scope=col>Sample.size</th></tr></thead>\n",
       "<tbody>\n",
       "\t<tr><td>16.84069 secs</td><td>3.445714 mins</td><td>5000         </td><td>25           </td></tr>\n",
       "</tbody>\n",
       "</table>\n"
      ],
      "text/latex": [
       "\\begin{tabular}{r|llll}\n",
       " Package.speed & Manual.speed & Number.of.simulations & Sample.size\\\\\n",
       "\\hline\n",
       "\t 16.84069 secs & 3.445714 mins & 5000          & 25           \\\\\n",
       "\\end{tabular}\n"
      ],
      "text/markdown": [
       "\n",
       "Package.speed | Manual.speed | Number.of.simulations | Sample.size | \n",
       "|---|\n",
       "| 16.84069 secs | 3.445714 mins | 5000          | 25            | \n",
       "\n",
       "\n"
      ],
      "text/plain": [
       "  Package.speed Manual.speed  Number.of.simulations Sample.size\n",
       "1 16.84069 secs 3.445714 mins 5000                  25         "
      ]
     },
     "metadata": {},
     "output_type": "display_data"
    }
   ],
   "source": [
    "data.frame('Package speed' = PackageSpeed,\n",
    "           'Manual speed' = ManualSpeed,\n",
    "           'Number of simulations' = nsim,\n",
    "           'Sample size' = n)"
   ]
  },
  {
   "cell_type": "markdown",
   "metadata": {},
   "source": [
    "> For now, better to use the package!"
   ]
  }
 ],
 "metadata": {
  "kernelspec": {
   "display_name": "R",
   "language": "R",
   "name": "ir"
  },
  "language_info": {
   "codemirror_mode": "r",
   "file_extension": ".r",
   "mimetype": "text/x-r-source",
   "name": "R",
   "pygments_lexer": "r",
   "version": "3.3.2"
  }
 },
 "nbformat": 4,
 "nbformat_minor": 2
}
